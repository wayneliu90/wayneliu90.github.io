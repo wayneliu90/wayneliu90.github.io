{
 "cells": [
  {
   "cell_type": "code",
   "execution_count": 7,
   "metadata": {
    "collapsed": false
   },
   "outputs": [
    {
     "name": "stdout",
     "output_type": "stream",
     "text": [
      "finished\n"
     ]
    }
   ],
   "source": [
    "import json\n",
    "from pprint import pprint\n",
    "\n",
    "with open('data/LateNight.json') as data_file:    \n",
    "    dataO = json.load(data_file)\n",
    "\n",
    "for i in range(0, len(dataO[\"links\"])):\n",
    "    out_file = open(\"data/LateNight/LateNight_\" + str(i) + \".json\",\"w\")\n",
    "    m = {\"nodes\": dataO[\"nodes\"], \"links\": dataO[\"links\"][i]}\n",
    "    json.dump(m, out_file, indent=2)                                    \n",
    "    out_file.close()\n",
    "    \n",
    "print(\"finished\")"
   ]
  }
 ],
 "metadata": {
  "kernelspec": {
   "display_name": "Python 2",
   "language": "python",
   "name": "python2"
  },
  "language_info": {
   "codemirror_mode": {
    "name": "ipython",
    "version": 2
   },
   "file_extension": ".py",
   "mimetype": "text/x-python",
   "name": "python",
   "nbconvert_exporter": "python",
   "pygments_lexer": "ipython2",
   "version": "2.7.11"
  }
 },
 "nbformat": 4,
 "nbformat_minor": 0
}
