{
 "cells": [
  {
   "cell_type": "code",
   "execution_count": null,
   "metadata": {
    "collapsed": false
   },
   "outputs": [],
   "source": [
    "list1 = ['Kevin', 'Jenny', 'Jingwei', 'Xi']\n",
    "print list1[2]\n",
    "print list1[:2]\n",
    "list1.append('last')\n",
    "print list1\n",
    "print len(list1)\n",
    "list1[-1] = 'new'\n",
    "print list1"
   ]
  },
  {
   "cell_type": "code",
   "execution_count": null,
   "metadata": {
    "collapsed": false
   },
   "outputs": [],
   "source": [
    "s = ' '\n",
    "list1 = ['I', 'am', 'learning','Python','to','munge','large','datasets','and','visualize','them']\n",
    "s = s.join(list1)\n",
    "print s\n",
    "list1.reverse()\n",
    "print list1\n",
    "list1.sort()\n",
    "print list1\n",
    "list2 = []\n",
    "for i in list1:\n",
    "    list2.append (i.lower())\n",
    "list2.sort()\n",
    "list3 = []\n",
    "for i in list2:\n",
    "    if i in list1:\n",
    "        list3.append(i)\n",
    "    else:\n",
    "        list3.append(i.capitalize())\n",
    "print list3\n",
    "list3.reverse()\n",
    "print list3"
   ]
  },
  {
   "cell_type": "code",
   "execution_count": null,
   "metadata": {
    "collapsed": false
   },
   "outputs": [],
   "source": [
    "low = int(raw_input())\n",
    "high = int(raw_input())\n",
    "import random\n",
    "if low <= high:\n",
    "    ran = random.randint(low, high)\n",
    "    print ran\n",
    "else:\n",
    "    print 'error: the higher bound is smaller than the lower bound'"
   ]
  },
  {
   "cell_type": "code",
   "execution_count": 23,
   "metadata": {
    "collapsed": false
   },
   "outputs": [
    {
     "name": "stdout",
     "output_type": "stream",
     "text": [
      "2\n",
      "in this view my on poor economics\n",
      "The number 2 bestseller today is: In This View My on Poor Economics\n"
     ]
    }
   ],
   "source": [
    "def BestSeller(Num, Title): #Question 4.0\n",
    "    m = Title.split() #breaking down the title into signle words\n",
    "    newtitle = '' \n",
    "    for i in range(len(m)):\n",
    "        if i <> 0 and m[i] in ('in', 'on', 'of'): #Here are just a few examples of non-capitalized words\n",
    "            newtitle += m[i]\n",
    "        else:\n",
    "            newtitle += m[i].capitalize()\n",
    "        newtitle += ' '\n",
    "    newtitle = newtitle[:-1] #deleting the extra space at the end\n",
    "    print 'The number', Num, 'bestseller today is:', newtitle\n",
    "\n",
    "BestSeller(int(raw_input()), raw_input())"
   ]
  },
  {
   "cell_type": "code",
   "execution_count": 37,
   "metadata": {
    "collapsed": false
   },
   "outputs": [
    {
     "name": "stdout",
     "output_type": "stream",
     "text": [
      "sdflwef\n",
      "er\n",
      "sdf2\n",
      "error after 3 attempts\n"
     ]
    }
   ],
   "source": [
    "def Testpassword(password):\n",
    "    if len(password) < 8 or len(password) > 14:\n",
    "        return False\n",
    "    digitnum = 0\n",
    "    upletnum = 0\n",
    "    spchanum = 0\n",
    "    for i in range(len(password)):\n",
    "        if password[i] in '0123456789':\n",
    "            digitnum += 1\n",
    "        if password[i] in 'ABCDEFGHIJKLMNOPQRSTUVWXYZ':\n",
    "            upletnum += 1\n",
    "        if password[i] in '!@#$%^&*()-_+=':\n",
    "            spchanum += 1\n",
    "    if digitnum < 2:\n",
    "        return False\n",
    "    if upletnum < 1:\n",
    "        return False\n",
    "    if spchanum < 1:\n",
    "        return False\n",
    "    return True\n",
    "\n",
    "for i in range(3):\n",
    "    p = raw_input()\n",
    "    if Testpassword(p):\n",
    "        print 'success'\n",
    "        break\n",
    "if not Testpassword(p):\n",
    "    print 'error after 3 attempts'"
   ]
  },
  {
   "cell_type": "code",
   "execution_count": 39,
   "metadata": {
    "collapsed": false
   },
   "outputs": [
    {
     "name": "stdout",
     "output_type": "stream",
     "text": [
      "5\n",
      "4\n",
      "625\n"
     ]
    }
   ],
   "source": [
    "def expo(a, b):\n",
    "    ans = a\n",
    "    for i in range(b-1):\n",
    "        ans *= a\n",
    "    return ans\n",
    "\n",
    "print expo(int(raw_input()), int(raw_input()))"
   ]
  },
  {
   "cell_type": "code",
   "execution_count": 47,
   "metadata": {
    "collapsed": false
   },
   "outputs": [
    {
     "name": "stdout",
     "output_type": "stream",
     "text": [
      "1234 234 23 -234 0 2340234 -234234 9463 8 23 13 2348 50\n",
      "The smallest number is -234234\n",
      "The largest number is 2340234\n"
     ]
    }
   ],
   "source": [
    "def min(numlist):\n",
    "    ans = numlist[0]\n",
    "    for i in range(len(numlist)):\n",
    "        if numlist[i] < ans:\n",
    "            ans = numlist[i]\n",
    "    return ans\n",
    "\n",
    "def max(numlist):\n",
    "    ans = numlist[0]\n",
    "    for i in range(len(numlist)):\n",
    "        if numlist[i] > ans:\n",
    "            ans = numlist[i]\n",
    "    return ans\n",
    "    \n",
    "raw = raw_input()\n",
    "nlist = raw.split()\n",
    "for i in range(len(nlist)):\n",
    "    nlist[i] = int(nlist[i])\n",
    "print 'The smallest number is', min(nlist)\n",
    "print 'The largest number is', max(nlist)"
   ]
  },
  {
   "cell_type": "code",
   "execution_count": 92,
   "metadata": {
    "collapsed": false
   },
   "outputs": [
    {
     "name": "stdout",
     "output_type": "stream",
     "text": [
      "guess a letter or solve: o\n",
      "--------- (7 times left)\n",
      "guess a letter or solve: si\n",
      "--------- (6 times left)\n",
      "Wrong guess\n",
      "guess a letter or solve: i\n",
      "----i---- (5 times left)\n",
      "guess a letter or solve: t\n",
      "----it--t (4 times left)\n",
      "guess a letter or solve: c\n",
      "--c-it-ct (3 times left)\n",
      "guess a letter or solve: a\n",
      "a-c-it-ct (2 times left)\n",
      "guess a letter or solve: h\n",
      "a-chit-ct (1 times left)\n",
      "guess a letter or solve: r\n",
      "archit-ct (0 times left)\n",
      "Game over\n"
     ]
    }
   ],
   "source": [
    "def test(guess):\n",
    "    leftatt = 8-attnum                #how many attempts left\n",
    "    if guess == ans:                #if the guess is correct\n",
    "        print ans, '(' + str(7-attnum) + ' times left)'\n",
    "        print 'Congratulations - you won!'\n",
    "        return True\n",
    "    elif len(guess)>1:                #if the player is gussing a word and the word is wrong\n",
    "        print ''.join(temp), '(' + str(7-attnum) + ' times left)'\n",
    "        print 'Wrong guess'\n",
    "        return False\n",
    "    else:                     #find out if the guessed letter is in the answer\n",
    "        for i in range(len(ans)):\n",
    "            if guess[0] == ans[i]:        #if the guessed letter is in the answer\n",
    "                temp[i] = guess[0]        #the temp will reveal the guessed letter's position in the answer\n",
    "        print ''.join(temp), '(' + str(7-attnum) + ' times left)'\n",
    "        if ''.join(temp) == ans:\n",
    "            print 'Congratulations - you won!'\n",
    "            return True\n",
    "        return False\n",
    "\n",
    "ans = 'architect'                #answer, the word to be guessed\n",
    "temp = ['-'] * len(ans)                #temp is to save the current guessed result, starting with only dash lines\n",
    "for attnum in range(8):                #attnum means the amount of attempts\n",
    "    g = raw_input('guess a letter or solve: ')\n",
    "    if test(g):\n",
    "        break                #if the player gets the word, the loop breaks and ends\n",
    "    elif attnum == 7: \n",
    "        print 'Game over'                #if all attempts fail, print 'game over'\n",
    "    \n",
    "    \n",
    "    \n",
    "    "
   ]
  },
  {
   "cell_type": "code",
   "execution_count": null,
   "metadata": {
    "collapsed": true
   },
   "outputs": [],
   "source": []
  }
 ],
 "metadata": {
  "kernelspec": {
   "display_name": "Python 2",
   "language": "python",
   "name": "python2"
  },
  "language_info": {
   "codemirror_mode": {
    "name": "ipython",
    "version": 2
   },
   "file_extension": ".py",
   "mimetype": "text/x-python",
   "name": "python",
   "nbconvert_exporter": "python",
   "pygments_lexer": "ipython2",
   "version": "2.7.11"
  }
 },
 "nbformat": 4,
 "nbformat_minor": 0
}
