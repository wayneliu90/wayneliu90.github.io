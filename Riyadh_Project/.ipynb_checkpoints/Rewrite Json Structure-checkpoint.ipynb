{
 "cells": [
  {
   "cell_type": "code",
   "execution_count": 1,
   "metadata": {
    "collapsed": false
   },
   "outputs": [
    {
     "name": "stdout",
     "output_type": "stream",
     "text": [
      "{u'links': [{u'source': 0, u'target': 1, u'value': 2.92},\n",
      "            {u'source': 0, u'target': 3, u'value': 1.92},\n",
      "            {u'source': 1, u'target': 3, u'value': 6.92},\n",
      "            {u'source': 2, u'target': 0, u'value': 8.92},\n",
      "            {u'source': 2, u'target': 3, u'value': 1.92},\n",
      "            {u'source': 3, u'target': 3, u'value': 0},\n",
      "            {u'source': 4, u'target': 1, u'value': 2.92}],\n",
      " u'nodes': [{u'ImmPer': 0, u'TAZ_id': 0},\n",
      "            {u'ImmPer': 0.43, u'TAZ_id': 1},\n",
      "            {u'ImmPer': 0.266268, u'TAZ_id': 2},\n",
      "            {u'ImmPer': 0.746268, u'TAZ_id': 3},\n",
      "            {u'ImmPer': 0.616268, u'TAZ_id': 4}]}\n",
      "{u'links': [[{'source': 0, 'target': 0, 'value': 0},\n",
      "             {u'source': 0, u'target': 1, u'value': 2.92},\n",
      "             {u'source': 0, u'target': 3, u'value': 1.92},\n",
      "             {u'source': 2, u'target': 0, u'value': 8.92}],\n",
      "            [{'source': 1, 'target': 1, 'value': 0},\n",
      "             {u'source': 0, u'target': 1, u'value': 2.92},\n",
      "             {u'source': 1, u'target': 3, u'value': 6.92},\n",
      "             {u'source': 4, u'target': 1, u'value': 2.92}],\n",
      "            [{'source': 2, 'target': 2, 'value': 0},\n",
      "             {u'source': 2, u'target': 0, u'value': 8.92},\n",
      "             {u'source': 2, u'target': 3, u'value': 1.92}],\n",
      "            [{'source': 3, 'target': 3, 'value': 0},\n",
      "             {u'source': 0, u'target': 3, u'value': 1.92},\n",
      "             {u'source': 1, u'target': 3, u'value': 6.92},\n",
      "             {u'source': 2, u'target': 3, u'value': 1.92}],\n",
      "            [{'source': 4, 'target': 4, 'value': 0},\n",
      "             {u'source': 4, u'target': 1, u'value': 2.92}]],\n",
      " u'nodes': [{u'ImmPer': 0, u'TAZ_id': 0},\n",
      "            {u'ImmPer': 0.43, u'TAZ_id': 1},\n",
      "            {u'ImmPer': 0.266268, u'TAZ_id': 2},\n",
      "            {u'ImmPer': 0.746268, u'TAZ_id': 3},\n",
      "            {u'ImmPer': 0.616268, u'TAZ_id': 4}]}\n"
     ]
    }
   ],
   "source": [
    "import json\n",
    "from pprint import pprint\n",
    "\n",
    "with open('data/ActualData.json') as data_file:    \n",
    "    dataO = json.load(data_file)\n",
    "\n",
    "pprint(dataO)\n",
    "\n",
    "Lnodes = len(dataO[\"nodes\"])\n",
    "newlinks = []\n",
    "for i in range(0, Lnodes):\n",
    "    emptylink = {'source': i, 'target': i, 'value': 0}\n",
    "    newlinks.append([emptylink])\n",
    "\n",
    "Llinks = len(dataO[\"links\"])\n",
    "for i in range(0, Llinks):\n",
    "    if dataO[\"links\"][i][\"value\"] > 0:\n",
    "        t = dataO[\"links\"][i][\"target\"]\n",
    "        s = dataO[\"links\"][i][\"source\"]\n",
    "        newlinks[t].append(dataO[\"links\"][i])\n",
    "        newlinks[s].append(dataO[\"links\"][i])\n",
    "\n",
    "dataO[\"links\"] = newlinks\n",
    "pprint(dataO)\n",
    "\n",
    "out_file = open(\"ActualDataNew.json\",\"w\")\n",
    "\n",
    "json.dump(dataO, out_file, indent=4)                                    \n",
    "\n",
    "out_file.close()"
   ]
  },
  {
   "cell_type": "code",
   "execution_count": null,
   "metadata": {
    "collapsed": true
   },
   "outputs": [],
   "source": []
  }
 ],
 "metadata": {
  "kernelspec": {
   "display_name": "Python 2",
   "language": "python",
   "name": "python2"
  },
  "language_info": {
   "codemirror_mode": {
    "name": "ipython",
    "version": 2
   },
   "file_extension": ".py",
   "mimetype": "text/x-python",
   "name": "python",
   "nbconvert_exporter": "python",
   "pygments_lexer": "ipython2",
   "version": "2.7.11"
  }
 },
 "nbformat": 4,
 "nbformat_minor": 0
}
